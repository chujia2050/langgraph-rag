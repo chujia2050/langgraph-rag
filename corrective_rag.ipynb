{
 "cells": [
  {
   "cell_type": "markdown",
   "id": "21de7e84-91ea-4da6-a2e6-c62a5389af72",
   "metadata": {},
   "source": [
    "<h1>Corrective RAG (CRAG)</h1>"
   ]
  },
  {
   "cell_type": "markdown",
   "id": "3cce642f-f929-4699-9d35-448e32b746bd",
   "metadata": {},
   "source": [
    "<h2>Setup</h2>"
   ]
  },
  {
   "cell_type": "code",
   "execution_count": 61,
   "id": "4bfe4136-05cb-4b29-9c7e-2400cfb79bbe",
   "metadata": {},
   "outputs": [
    {
     "data": {
      "text/plain": [
       "True"
      ]
     },
     "execution_count": 61,
     "metadata": {},
     "output_type": "execute_result"
    }
   ],
   "source": [
    "from dotenv import load_dotenv\n",
    "\n",
    "load_dotenv()"
   ]
  },
  {
   "cell_type": "code",
   "execution_count": 62,
   "id": "902b1ced-33a3-4d57-adf1-f88eb585c22b",
   "metadata": {},
   "outputs": [],
   "source": [
    "from langchain_openai import ChatOpenAI, OpenAIEmbeddings\n",
    "from langchain_core.messages import AIMessage, HumanMessage, ToolMessage\n",
    "\n",
    "llm = ChatOpenAI(model=\"gpt-4o\", temperature=0)\n",
    "embeddings = OpenAIEmbeddings(model=\"text-embedding-3-small\")"
   ]
  },
  {
   "cell_type": "code",
   "execution_count": 54,
   "id": "530d4a8f-4143-44af-b6e2-52d67a84a7df",
   "metadata": {},
   "outputs": [
    {
     "data": {
      "text/plain": [
       "AIMessage(content='Hello! How can I assist you today?', additional_kwargs={'refusal': None}, response_metadata={'token_usage': {'completion_tokens': 10, 'prompt_tokens': 8, 'total_tokens': 18, 'completion_tokens_details': {'accepted_prediction_tokens': 0, 'audio_tokens': 0, 'reasoning_tokens': 0, 'rejected_prediction_tokens': 0}, 'prompt_tokens_details': {'audio_tokens': 0, 'cached_tokens': 0}}, 'model_name': 'gpt-4o-2024-08-06', 'system_fingerprint': 'fp_eb9dce56a8', 'finish_reason': 'stop', 'logprobs': None}, id='run-df3f4453-2915-4ab1-ae40-c623843fad74-0', usage_metadata={'input_tokens': 8, 'output_tokens': 10, 'total_tokens': 18, 'input_token_details': {'audio': 0, 'cache_read': 0}, 'output_token_details': {'audio': 0, 'reasoning': 0}})"
      ]
     },
     "execution_count": 54,
     "metadata": {},
     "output_type": "execute_result"
    }
   ],
   "source": [
    "# Test\n",
    "response = llm.invoke(\"Hi\")\n",
    "response"
   ]
  },
  {
   "cell_type": "markdown",
   "id": "5b4e9b4c-4656-483b-83ed-d5ac8c3c7044",
   "metadata": {},
   "source": [
    "<h2>Retriever</h2>"
   ]
  },
  {
   "cell_type": "code",
   "execution_count": 63,
   "id": "d501b430-6004-4680-8508-5fa61c712061",
   "metadata": {},
   "outputs": [],
   "source": [
    "from langchain.text_splitter import RecursiveCharacterTextSplitter\n",
    "from langchain_community.document_loaders import WebBaseLoader\n",
    "from langchain_community.vectorstores import Chroma\n",
    "from langchain_openai import OpenAIEmbeddings\n",
    "\n",
    "urls = [\n",
    "    \"https://lilianweng.github.io/posts/2023-06-23-agent/\",\n",
    "    \"https://lilianweng.github.io/posts/2023-03-15-prompt-engineering/\",\n",
    "    \"https://lilianweng.github.io/posts/2023-10-25-adv-attack-llm/\",\n",
    "]\n",
    "\n",
    "docs = [WebBaseLoader(url).load() for url in urls] #Load documents\n",
    "docs_list = [item for sublist in docs for item in sublist] #Flatten the list\n",
    "\n",
    "text_splitter = RecursiveCharacterTextSplitter.from_tiktoken_encoder(\n",
    "    chunk_size=250, chunk_overlap=0\n",
    ")\n",
    "doc_splits = text_splitter.split_documents(docs_list)\n",
    "\n",
    "# Add to vectorDB\n",
    "vectorstore = Chroma.from_documents(\n",
    "    documents=doc_splits,\n",
    "    collection_name=\"rag-chroma\",\n",
    "    embedding=OpenAIEmbeddings(),\n",
    ")\n",
    "retriever = vectorstore.as_retriever()"
   ]
  },
  {
   "cell_type": "code",
   "execution_count": 64,
   "id": "83afdbf5-d1b1-4f97-bef4-507de0489d77",
   "metadata": {},
   "outputs": [],
   "source": [
    "# Test\n",
    "question = \"agent memory\"\n",
    "documents = retriever.invoke(question) #the default number of retrieved documents (k) is 4\n",
    "doc_txt = documents[1].page_content"
   ]
  },
  {
   "cell_type": "code",
   "execution_count": 65,
   "id": "0e6b9faf-1892-4a8d-9d56-63651e0722fc",
   "metadata": {},
   "outputs": [
    {
     "data": {
      "text/plain": [
       "langchain_core.documents.base.Document"
      ]
     },
     "execution_count": 65,
     "metadata": {},
     "output_type": "execute_result"
    }
   ],
   "source": [
    "type(documents[0])"
   ]
  },
  {
   "cell_type": "markdown",
   "id": "747ebeae-0a69-4964-a337-0490e8ff9fd8",
   "metadata": {},
   "source": [
    "<h2>Grader</h2>"
   ]
  },
  {
   "cell_type": "code",
   "execution_count": 66,
   "id": "1fbb49cf-c454-488f-a7c2-8fe6198bda12",
   "metadata": {},
   "outputs": [],
   "source": [
    "from langchain_core.prompts import ChatPromptTemplate\n",
    "from pydantic import BaseModel, Field\n",
    "\n",
    "# Data model\n",
    "class GradeDocuments(BaseModel):\n",
    "    \"\"\"Binary score for relevance check on retrieved documents.\"\"\"\n",
    "\n",
    "    binary_score: str = Field(\n",
    "        description=\"Documents are relevant to the question, 'yes' or 'no'\"\n",
    "    )\n",
    "\n",
    "# LLM with function call\n",
    "structured_llm_grader = llm.with_structured_output(GradeDocuments)\n",
    "\n",
    "# Prompt\n",
    "system = \"\"\"You are a grader assessing relevance of a retrieved document to a user question. \\n \n",
    "    If the document contains keyword(s) or semantic meaning related to the question, grade it as relevant. \\n\n",
    "    Give a binary score 'yes' or 'no' score to indicate whether the document is relevant to the question.\"\"\"\n",
    "grade_prompt = ChatPromptTemplate.from_messages(\n",
    "    [\n",
    "        (\"system\", system),\n",
    "        (\"human\", \"Retrieved document: \\n\\n {document} \\n\\n User question: {question}\"),\n",
    "    ]\n",
    ")\n",
    "\n",
    "retrieval_grader = grade_prompt | structured_llm_grader"
   ]
  },
  {
   "cell_type": "code",
   "execution_count": 67,
   "id": "d99a0cb8-ec60-4c7c-aac7-354f44a770d9",
   "metadata": {},
   "outputs": [
    {
     "name": "stdout",
     "output_type": "stream",
     "text": [
      "binary_score='yes'\n"
     ]
    }
   ],
   "source": [
    "# Test\n",
    "question = \"agent memory\"\n",
    "docs = retriever.invoke(question)\n",
    "doc_txt = docs[1].page_content\n",
    "print(retrieval_grader.invoke({\"question\": question, \"document\": doc_txt}))"
   ]
  },
  {
   "cell_type": "markdown",
   "id": "c1f27798-c00c-4252-aa8c-62e6d0638667",
   "metadata": {},
   "source": [
    "<h2>Generate Answer</h2>"
   ]
  },
  {
   "cell_type": "code",
   "execution_count": 68,
   "id": "5ff9e2ab-ea62-4212-ac0b-dbcbc6cee337",
   "metadata": {},
   "outputs": [],
   "source": [
    "from langchain import hub\n",
    "from langchain_core.output_parsers import StrOutputParser\n",
    "\n",
    "# Prompt\n",
    "prompt = hub.pull(\"rlm/rag-prompt\")\n",
    "\n",
    "# Chain\n",
    "rag_chain = prompt | llm | StrOutputParser()"
   ]
  },
  {
   "cell_type": "code",
   "execution_count": 69,
   "id": "fe83d648-7e12-4ab9-b4c5-9dbea934bf4f",
   "metadata": {},
   "outputs": [
    {
     "name": "stdout",
     "output_type": "stream",
     "text": [
      "In an LLM-powered autonomous agent system, memory is divided into short-term and long-term components. Short-term memory involves in-context learning, while long-term memory allows the agent to retain and recall information over extended periods, often using an external vector store for fast retrieval. This memory system enables agents to learn from past experiences and improve future actions.\n"
     ]
    }
   ],
   "source": [
    "# Test\n",
    "generation = rag_chain.invoke({\"context\": docs, \"question\": question})\n",
    "print(generation)"
   ]
  },
  {
   "cell_type": "markdown",
   "id": "8edef52c-cc2a-4b0c-9f41-dfac5205fd0d",
   "metadata": {},
   "source": [
    "<h2>Question Re-writer</h2>"
   ]
  },
  {
   "cell_type": "code",
   "execution_count": 70,
   "id": "d1853cf0-f661-415b-bf53-36602eea16bf",
   "metadata": {},
   "outputs": [],
   "source": [
    "# Prompt\n",
    "system = \"\"\"You a question re-writer that converts an input question to a better version that is optimized \\n \n",
    "     for web search. Look at the input and try to reason about the underlying semantic intent / meaning.\"\"\"\n",
    "re_write_prompt = ChatPromptTemplate.from_messages(\n",
    "    [\n",
    "        (\"system\", system),\n",
    "        (\n",
    "            \"human\",\n",
    "            \"Here is the initial question: \\n\\n {question} \\n Formulate an improved question.\",\n",
    "        ),\n",
    "    ]\n",
    ")\n",
    "\n",
    "question_rewriter = re_write_prompt | llm | StrOutputParser()"
   ]
  },
  {
   "cell_type": "code",
   "execution_count": 71,
   "id": "493d3690-1c45-4fd7-8a9d-59a31c80eb26",
   "metadata": {},
   "outputs": [
    {
     "data": {
      "text/plain": [
       "'What is agent memory and how does it function in artificial intelligence systems?'"
      ]
     },
     "execution_count": 71,
     "metadata": {},
     "output_type": "execute_result"
    }
   ],
   "source": [
    "# Test\n",
    "question_rewriter.invoke({\"question\": question})"
   ]
  },
  {
   "cell_type": "markdown",
   "id": "6345cc64-a427-4e6f-b97f-382012a15d42",
   "metadata": {},
   "source": [
    "<h2>Web Search Tool</h2>"
   ]
  },
  {
   "cell_type": "code",
   "execution_count": 72,
   "id": "301cfab3-0e64-4f80-8e54-129c9ca7612e",
   "metadata": {},
   "outputs": [],
   "source": [
    "from langchain_community.tools.tavily_search import TavilySearchResults\n",
    "\n",
    "web_search_tool = TavilySearchResults(max_results=3)"
   ]
  },
  {
   "cell_type": "code",
   "execution_count": 87,
   "id": "18c2c979-475c-4b15-827d-4791ddfa3454",
   "metadata": {},
   "outputs": [
    {
     "data": {
      "text/plain": [
       "[{'url': 'https://www.deeplearning.ai/short-courses/llms-as-operating-systems-agent-memory/',\n",
       "  'content': 'LLMs as Operating Systems: Agent Memory - DeepLearning.AI Build agents with long-term, persistent memory using Letta to manage and edit context efficiently. Learn how an LLM agent can act as an operating system to manage memory, autonomously optimizing context use. Learn how to build agentic memory into your applications in this short course, LLMs as Operating Systems: Agent Memory, created in partnership with Letta, and taught by its founders Charles Packer and Sarah Wooders. Based on the innovative approach in the MemGPT research paper “Towards LLMs as Operating Systems,” its authors, two of whom are Charles and Sarah, proposed using an LLM agent to manage this context window, building a management system that provides applications with managed, persistent memory.'},\n",
       " {'url': 'https://docs.aws.amazon.com/bedrock/latest/userguide/agents-configure-memory.html',\n",
       "  'content': 'Enable agent memory - Amazon Bedrock Enable agent memory - Amazon Bedrock Enable agent memory To configure memory for your agent, you must first enable memory and then optionally specify the retention period for the memory. You can enable memory for your agent when you create or update your agent. To learn how to configure memory for your agent, select the tab corresponding to your method of choice and follow steps. To configure memory for your agent (Optional) For Memory duration, enter a number between 1 and 365 to specify the memory duration for your agent. To enable and configure memory for your agent, send an CreateAgent or UpdateAgent request with an Agents for Amazon Bedrock build-time endpoint. Thanks for letting us know this page needs work.'},\n",
       " {'url': 'https://blog.langchain.dev/memory-for-agents/',\n",
       "  'content': 'Memory for agents Memory for agents At Sequoia’s AI Ascent conference in March, I talked about three limitations for agents: planning, UX, and memory. But what even is memory? While the exact shape of memory that your agent has may differ by application, we do see different high level types of memory. Below is my rough, ELI5 explanation of each type and practical ways for how todays agents may use and update this memory type. Besides just thinking about the type of memory to update in their agents, we also see developers thinking about how to update agent memory. One way to update agent memory is “in the hot path”. Why do we care about memory for agents?'}]"
      ]
     },
     "execution_count": 87,
     "metadata": {},
     "output_type": "execute_result"
    }
   ],
   "source": [
    "# Test\n",
    "docs = web_search_tool.invoke(question)\n",
    "docs"
   ]
  },
  {
   "cell_type": "markdown",
   "id": "c86bd85f-943e-48ee-8c11-b3688630f8b0",
   "metadata": {},
   "source": [
    "<h2>Graph State</h2>"
   ]
  },
  {
   "cell_type": "code",
   "execution_count": 74,
   "id": "ca6aa82f-a40a-4eef-976c-e9fa76addc80",
   "metadata": {},
   "outputs": [],
   "source": [
    "from typing import List\n",
    "\n",
    "from typing_extensions import TypedDict\n",
    "\n",
    "class GraphState(TypedDict):\n",
    "    \"\"\"\n",
    "    Represents the state of our graph.\n",
    "\n",
    "    Attributes:\n",
    "        question: question\n",
    "        generation: LLM generation\n",
    "        web_search: whether to add search\n",
    "        documents: list of documents\n",
    "    \"\"\"\n",
    "    question: str\n",
    "    generation: str\n",
    "    web_search: str\n",
    "    documents: List[str]"
   ]
  },
  {
   "cell_type": "markdown",
   "id": "ece59afb-54a4-48d2-b8b2-8cd8117ec35c",
   "metadata": {},
   "source": [
    "<h2>Retriever Node</h2>"
   ]
  },
  {
   "cell_type": "code",
   "execution_count": 75,
   "id": "1efa1888-4925-4fc8-9836-a76a0afbdeb5",
   "metadata": {},
   "outputs": [],
   "source": [
    "from langchain.schema import Document\n",
    "\n",
    "def retrieve(state):\n",
    "    \"\"\"\n",
    "    Retrieve documents\n",
    "\n",
    "    Args:\n",
    "        state (dict): The current graph state\n",
    "\n",
    "    Returns:\n",
    "        state (dict): New key added to state, documents, that contains retrieved documents\n",
    "    \"\"\"\n",
    "    print(\"---RETRIEVE---\")\n",
    "    question = state[\"question\"]\n",
    "\n",
    "    # Retrieval\n",
    "    documents = retriever.invoke(question)\n",
    "    return {\"documents\": documents, \"question\": question}"
   ]
  },
  {
   "cell_type": "markdown",
   "id": "04b931f4-afae-4de7-9070-5c629c69798a",
   "metadata": {},
   "source": [
    "<h2>Grader Node</h2>"
   ]
  },
  {
   "cell_type": "code",
   "execution_count": 76,
   "id": "82742eaf-97fc-4bab-ad07-ec1d70491841",
   "metadata": {},
   "outputs": [],
   "source": [
    "def grade(state):\n",
    "    \"\"\"\n",
    "    Determines whether the retrieved documents are relevant to the question.\n",
    "\n",
    "    Args:\n",
    "        state (dict): The current graph state\n",
    "\n",
    "    Returns:\n",
    "        state (dict): Updates documents key with only filtered relevant documents\n",
    "    \"\"\"\n",
    "\n",
    "    print(\"---CHECK DOCUMENT RELEVANCE TO QUESTION---\")\n",
    "    question = state[\"question\"]\n",
    "    documents = state[\"documents\"]\n",
    "\n",
    "    # Score each doc\n",
    "    filtered_docs = []\n",
    "    web_search = \"No\"\n",
    "    for doc in documents:\n",
    "        score = retrieval_grader.invoke(\n",
    "            {\"question\": question, \"document\": doc.page_content}\n",
    "        )\n",
    "        grade = score.binary_score #if any docs are relevant, we can move to gene answer\n",
    "        if grade == \"yes\":\n",
    "            print(\"---GRADE: DOCUMENT RELEVANT---\")\n",
    "            filtered_docs.append(doc)\n",
    "        else:\n",
    "            print(\"---GRADE: DOCUMENT NOT RELEVANT---\")\n",
    "            web_search = \"Yes\"\n",
    "    return {\"documents\": filtered_docs, \"question\": question, \"web_search\": web_search}"
   ]
  },
  {
   "cell_type": "markdown",
   "id": "2a6d7caf-8987-4aaa-859d-2210aab0ae00",
   "metadata": {},
   "source": [
    "<h2>Generate Node</h2>"
   ]
  },
  {
   "cell_type": "code",
   "execution_count": 77,
   "id": "356769f1-ec86-45dc-8c30-6113de1c5b98",
   "metadata": {},
   "outputs": [],
   "source": [
    "def generate(state):\n",
    "    \"\"\"\n",
    "    Generate answer\n",
    "\n",
    "    Args:\n",
    "        state (dict): The current graph state\n",
    "\n",
    "    Returns:\n",
    "        state (dict): New key added to state, generation, that contains LLM generation\n",
    "    \"\"\"\n",
    "    print(\"---GENERATE---\")\n",
    "    question = state[\"question\"]\n",
    "    documents = state[\"documents\"]\n",
    "\n",
    "    # RAG generation\n",
    "    generation = rag_chain.invoke({\"context\": documents, \"question\": question})\n",
    "    return {\"documents\": documents, \"question\": question, \"generation\": generation}"
   ]
  },
  {
   "cell_type": "markdown",
   "id": "2c16eec5-956c-4f0b-98df-d46aed92d65e",
   "metadata": {},
   "source": [
    "<h2>Question Re-writer Node</h2>"
   ]
  },
  {
   "cell_type": "code",
   "execution_count": 78,
   "id": "0dae5ca9-52d7-495b-88de-b86991e45bca",
   "metadata": {},
   "outputs": [],
   "source": [
    "def transform(state):\n",
    "    \"\"\"\n",
    "    Transform the query to produce a better question.\n",
    "\n",
    "    Args:\n",
    "        state (dict): The current graph state\n",
    "\n",
    "    Returns:\n",
    "        state (dict): Updates question key with a re-phrased question\n",
    "    \"\"\"\n",
    "\n",
    "    print(\"---TRANSFORM QUERY---\")\n",
    "    question = state[\"question\"]\n",
    "    documents = state[\"documents\"]\n",
    "\n",
    "    # Re-write question\n",
    "    better_question = question_rewriter.invoke({\"question\": question})\n",
    "    return {\"documents\": documents, \"question\": better_question}"
   ]
  },
  {
   "cell_type": "markdown",
   "id": "ea19aa5d-4626-41e9-965d-d63d383ffc04",
   "metadata": {},
   "source": [
    "<h2>Web Search Node</h2>"
   ]
  },
  {
   "cell_type": "code",
   "execution_count": 88,
   "id": "0ad70d4b-8c44-41da-8336-565ab62ce1d1",
   "metadata": {},
   "outputs": [],
   "source": [
    "def search(state):\n",
    "    \"\"\"\n",
    "    Web search based on the re-phrased question.\n",
    "\n",
    "    Args:\n",
    "        state (dict): The current graph state\n",
    "\n",
    "    Returns:\n",
    "        state (dict): Updates documents key with appended web results\n",
    "    \"\"\"\n",
    "\n",
    "    print(\"---WEB SEARCH---\")\n",
    "    question = state[\"question\"]\n",
    "    documents = state[\"documents\"]\n",
    "\n",
    "    # Web search\n",
    "    docs = web_search_tool.invoke(question)\n",
    "    web_results = \"\\n\".join([doc[\"content\"] for doc in docs])\n",
    "    documents.append(Document(page_content=web_results))\n",
    "\n",
    "    return {\"documents\": documents, \"question\": question}"
   ]
  },
  {
   "cell_type": "markdown",
   "id": "797b70f1-1634-4e54-b99b-71d843fd6d65",
   "metadata": {},
   "source": [
    "<h2>Conditional Edge</h2>"
   ]
  },
  {
   "cell_type": "code",
   "execution_count": 89,
   "id": "d3fc7423-9a0d-4f5b-bf1f-70ec937ef30d",
   "metadata": {},
   "outputs": [],
   "source": [
    "def decide_to_generate(state):\n",
    "    \"\"\"\n",
    "    Determines whether to generate an answer, or re-generate a question.\n",
    "\n",
    "    Args:\n",
    "        state (dict): The current graph state\n",
    "\n",
    "    Returns:\n",
    "        str: Binary decision for next node to call\n",
    "    \"\"\"\n",
    "\n",
    "    print(\"---ASSESS GRADED DOCUMENTS---\")\n",
    "    web_search = state[\"web_search\"]\n",
    "\n",
    "    if web_search == \"Yes\":\n",
    "        # All documents have been filtered check_relevance\n",
    "        # We will re-generate a new query\n",
    "        print(\n",
    "            \"---DECISION: ALL DOCUMENTS ARE NOT RELEVANT TO QUESTION, TRANSFORM QUERY---\"\n",
    "        )\n",
    "        return \"transform\"\n",
    "    else:\n",
    "        # We have relevant documents, so generate answer\n",
    "        print(\"---DECISION: GENERATE---\")\n",
    "        return \"generate\""
   ]
  },
  {
   "cell_type": "markdown",
   "id": "0415902b-8e80-4d91-af58-ec24b59ec9eb",
   "metadata": {},
   "source": [
    "<h2>Compile Graph</h2>"
   ]
  },
  {
   "cell_type": "code",
   "execution_count": 90,
   "id": "f73c1463-6caf-44c9-af9a-5a83bb3cf2fe",
   "metadata": {},
   "outputs": [
    {
     "data": {
      "image/png": "[encoded data removed]",
      "text/plain": [
       "<IPython.core.display.Image object>"
      ]
     },
     "metadata": {},
     "output_type": "display_data"
    }
   ],
   "source": [
    "from IPython.display import Image, display\n",
    "from langgraph.graph import StateGraph, START, END\n",
    "\n",
    "workflow = StateGraph(GraphState)\n",
    "\n",
    "# Define the nodes\n",
    "workflow.add_node(\"retrieve\", retrieve)  # retrieve\n",
    "workflow.add_node(\"grade\", grade)  # grade documents\n",
    "workflow.add_node(\"generate\", generate)  # generatae\n",
    "workflow.add_node(\"transform\", transform)  # transform_query\n",
    "workflow.add_node(\"search\", search)  # web search\n",
    "\n",
    "# Build graph\n",
    "workflow.add_edge(START, \"retrieve\")\n",
    "workflow.add_edge(\"retrieve\", \"grade\")\n",
    "workflow.add_conditional_edges(\n",
    "    \"grade\",\n",
    "    decide_to_generate,\n",
    "    {\n",
    "        \"transform\": \"transform\",\n",
    "        \"generate\": \"generate\",\n",
    "    },\n",
    ")\n",
    "workflow.add_edge(\"transform\", \"search\")\n",
    "workflow.add_edge(\"search\", \"generate\")\n",
    "workflow.add_edge(\"generate\", END)\n",
    "\n",
    "# Compile\n",
    "graph = workflow.compile()\n",
    "\n",
    "# View\n",
    "display(Image(graph.get_graph().draw_mermaid_png()))"
   ]
  },
  {
   "cell_type": "code",
   "execution_count": 91,
   "id": "c447a352-7c0b-4b9d-9477-7c32d97cb2a7",
   "metadata": {},
   "outputs": [
    {
     "name": "stdout",
     "output_type": "stream",
     "text": [
      "---RETRIEVE---\n",
      "\"Node 'retrieve':\"\n",
      "'\\n---\\n'\n",
      "---CHECK DOCUMENT RELEVANCE TO QUESTION---\n",
      "---GRADE: DOCUMENT NOT RELEVANT---\n",
      "---GRADE: DOCUMENT NOT RELEVANT---\n",
      "---GRADE: DOCUMENT NOT RELEVANT---\n",
      "---GRADE: DOCUMENT NOT RELEVANT---\n",
      "---ASSESS GRADED DOCUMENTS---\n",
      "---DECISION: ALL DOCUMENTS ARE NOT RELEVANT TO QUESTION, TRANSFORM QUERY---\n",
      "\"Node 'grade':\"\n",
      "'\\n---\\n'\n",
      "---TRANSFORM QUERY---\n",
      "\"Node 'transform':\"\n",
      "'\\n---\\n'\n",
      "---WEB SEARCH---\n",
      "\"Node 'search':\"\n",
      "'\\n---\\n'\n",
      "---GENERATE---\n",
      "\"Node 'generate':\"\n",
      "'\\n---\\n'\n",
      "('Artificial intelligence agents use episodic, semantic, procedural, and '\n",
      " 'short-term memory systems. These memory types help AI agents dynamically '\n",
      " 'adapt, provide personalized interactions, and solve complex problems.')\n"
     ]
    }
   ],
   "source": [
    "from pprint import pprint\n",
    "\n",
    "inputs = {\"question\": \"What are the types of agent memory?\"}\n",
    "for output in graph.stream(inputs):\n",
    "    for key, value in output.items():\n",
    "        # Node\n",
    "        pprint(f\"Node '{key}':\")\n",
    "        # Optional: print full state at each node\n",
    "        # pprint.pprint(value[\"keys\"], indent=2, width=80, depth=None)\n",
    "    pprint(\"\\n---\\n\")\n",
    "\n",
    "# Final generation\n",
    "pprint(value[\"generation\"])"
   ]
  },
  {
   "cell_type": "code",
   "execution_count": 98,
   "id": "f067cb4a-b2f8-4f4b-a8b2-bfb2223c6852",
   "metadata": {},
   "outputs": [
    {
     "name": "stdout",
     "output_type": "stream",
     "text": [
      "\n",
      "---RETRIEVE---\n",
      "\n",
      "---CHECK DOCUMENT RELEVANCE TO QUESTION---\n",
      "---GRADE: DOCUMENT NOT RELEVANT---\n",
      "---GRADE: DOCUMENT NOT RELEVANT---\n",
      "---GRADE: DOCUMENT NOT RELEVANT---\n",
      "---GRADE: DOCUMENT NOT RELEVANT---\n",
      "---ASSESS GRADED DOCUMENTS---\n",
      "---DECISION: ALL DOCUMENTS ARE NOT RELEVANT TO QUESTION, TRANSFORM QUERY---\n",
      "\n",
      "---TRANSFORM QUERY---\n",
      "\n",
      "---WEB SEARCH---\n",
      "\n",
      "---GENERATE---\n",
      "The AlphaCodium research paper introduces a new methodology for enhancing code generation by large language models (LLMs) through a test-based, multi-stage, iterative process. This approach significantly improves performance on complex code generation tasks, particularly in competitive programming, by using a specialized flow without additional training. The methodology was tested on the CodeContests dataset, demonstrating its effectiveness in improving LLM performance compared to direct prompt input methods.\n"
     ]
    }
   ],
   "source": [
    "for event in graph.stream({\"question\": \"How does the AlphaCodium paper work?\"}, stream_mode=\"values\"):\n",
    "    print(event.get('generation', ''))"
   ]
  },
  {
   "cell_type": "code",
   "execution_count": null,
   "id": "a87d6af2-58fc-4e7d-b1df-b90bf267a6e9",
   "metadata": {},
   "outputs": [],
   "source": []
  }
 ],
 "metadata": {
  "kernelspec": {
   "display_name": "Python 3 (ipykernel)",
   "language": "python",
   "name": "python3"
  },
  "language_info": {
   "codemirror_mode": {
    "name": "ipython",
    "version": 3
   },
   "file_extension": ".py",
   "mimetype": "text/x-python",
   "name": "python",
   "nbconvert_exporter": "python",
   "pygments_lexer": "ipython3",
   "version": "3.12.3"
  }
 },
 "nbformat": 4,
 "nbformat_minor": 5
}
